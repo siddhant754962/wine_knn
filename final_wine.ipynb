{
 "cells": [
  {
   "cell_type": "code",
   "execution_count": 8,
   "id": "1770dfdd-22b5-4d61-954d-ea49c737d9f5",
   "metadata": {},
   "outputs": [
    {
     "name": "stdout",
     "output_type": "stream",
     "text": [
      "✅ Model Accuracy: 49.94%\n",
      "\n",
      "Confusion Matrix:\n",
      " [[  0   0   1   3   0   0   0]\n",
      " [  0   4  19   7   1   0   0]\n",
      " [  0   7 126  91  11   0   0]\n",
      " [  0   1  98 220  38   1   0]\n",
      " [  0   1   7  85  45   0   0]\n",
      " [  0   0   1  16   8   1   0]\n",
      " [  0   0   0   0   1   0   0]]\n",
      "\n",
      "Classification Report:\n",
      "               precision    recall  f1-score   support\n",
      "\n",
      "           3       0.00      0.00      0.00         4\n",
      "           4       0.31      0.13      0.18        31\n",
      "           5       0.50      0.54      0.52       235\n",
      "           6       0.52      0.61      0.56       358\n",
      "           7       0.43      0.33      0.37       138\n",
      "           8       0.50      0.04      0.07        26\n",
      "           9       0.00      0.00      0.00         1\n",
      "\n",
      "    accuracy                           0.50       793\n",
      "   macro avg       0.32      0.23      0.24       793\n",
      "weighted avg       0.49      0.50      0.48       793\n",
      "\n",
      "\n",
      "Pipeline saved as 'knn_wine_pipeline.pkl'\n"
     ]
    }
   ],
   "source": [
    "import pandas as pd\n",
    "from sklearn.model_selection import train_test_split\n",
    "from sklearn.preprocessing import StandardScaler\n",
    "from sklearn.neighbors import KNeighborsClassifier\n",
    "from sklearn.pipeline import Pipeline\n",
    "from sklearn.metrics import accuracy_score, confusion_matrix, classification_report\n",
    "import joblib\n",
    "import warnings\n",
    "warnings.filterwarnings(\"ignore\")\n",
    "\n",
    "# ---------------- 1️⃣ Load Dataset ----------------\n",
    "df = pd.read_csv(\"winequality-white.csv\", sep=\";\")\n",
    "df = df.drop_duplicates()\n",
    "\n",
    "X = df.drop('quality', axis=1)\n",
    "y = df['quality']\n",
    "\n",
    "# ---------------- 2️⃣ Train/Test Split ----------------\n",
    "X_train, X_test, y_train, y_test = train_test_split(\n",
    "    X, y, test_size=0.2, random_state=42, stratify=y\n",
    ")\n",
    "\n",
    "# ---------------- 3️⃣ Pipeline: Scaler + KNN ----------------\n",
    "knn_pipeline = Pipeline([\n",
    "    ('scaler', StandardScaler()),\n",
    "    ('knn', KNeighborsClassifier(n_neighbors=7))\n",
    "])\n",
    "\n",
    "# ---------------- 4️⃣ Train Model ----------------\n",
    "knn_pipeline.fit(X_train, y_train)\n",
    "\n",
    "# ---------------- 5️⃣ Prediction ----------------\n",
    "y_pred = knn_pipeline.predict(X_test)\n",
    "\n",
    "# ---------------- 6️⃣ Accuracy & Report ----------------\n",
    "acc = accuracy_score(y_test, y_pred)\n",
    "print(\"✅ Model Accuracy: {:.2f}%\".format(acc*100))\n",
    "print(\"\\nConfusion Matrix:\\n\", confusion_matrix(y_test, y_pred))\n",
    "print(\"\\nClassification Report:\\n\", classification_report(y_test, y_pred))\n",
    "\n",
    "# ---------------- 7️⃣ Save Pipeline for App ----------------\n",
    "joblib.dump(knn_pipeline, \"knn_wine_pipeline.pkl\")\n",
    "print(\"\\nPipeline saved as 'knn_wine_pipeline.pkl'\")\n"
   ]
  },
  {
   "cell_type": "code",
   "execution_count": null,
   "id": "60cda176-1baf-435c-8ee3-3cd7ff231242",
   "metadata": {},
   "outputs": [],
   "source": []
  }
 ],
 "metadata": {
  "kernelspec": {
   "display_name": "Python 3 (ipykernel)",
   "language": "python",
   "name": "python3"
  },
  "language_info": {
   "codemirror_mode": {
    "name": "ipython",
    "version": 3
   },
   "file_extension": ".py",
   "mimetype": "text/x-python",
   "name": "python",
   "nbconvert_exporter": "python",
   "pygments_lexer": "ipython3",
   "version": "3.13.5"
  }
 },
 "nbformat": 4,
 "nbformat_minor": 5
}
